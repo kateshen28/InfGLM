{
 "cells": [
  {
   "cell_type": "code",
   "execution_count": 1,
   "id": "e6af1502-4ab5-4fbf-a2ed-0c2f12e2257c",
   "metadata": {},
   "outputs": [],
   "source": [
    "import numpy as np\n",
    "import pandas as pd\n",
    "import mpmath\n",
    "import matplotlib\n",
    "import sklearn\n",
    "import statsmodels.api as sm\n",
    "import matplotlib.pyplot as plt\n",
    "from sklearn import linear_model\n",
    "import parametric_lasso \n",
    "import util \n",
    "import ci \n",
    "from sklearn.linear_model import LogisticRegression\n",
    "from scipy import stats\n",
    "import warnings\n",
    "import random"
   ]
  },
  {
   "cell_type": "code",
   "execution_count": 2,
   "id": "9ecb5203",
   "metadata": {},
   "outputs": [],
   "source": [
    "# Generate data\n",
    "def gen_Xy(n, beta_vec):\n",
    "    p = len(beta_vec) - 1  \n",
    "    X = np.random.randn(n, p)\n",
    "    X = np.hstack([np.ones((n, 1)), X])\n",
    "    eta = np.dot(X, beta_vec)\n",
    "    pr = 1 / (1 + np.exp(-eta))\n",
    "    y = np.random.binomial(1, pr)\n",
    "    \n",
    "    return X, y"
   ]
  },
  {
   "cell_type": "code",
   "execution_count": 3,
   "id": "139115fa",
   "metadata": {},
   "outputs": [],
   "source": [
    "# MLE\n",
    "def logreg(X,y,tol=1e-6,kmax=20):\n",
    "\n",
    "    # get dimension of X\n",
    "    dm = X.shape\n",
    "    n = dm[0] \n",
    "    p = dm[1]\n",
    "    \n",
    "    # initialize b \n",
    "    b = np.zeros(p)\n",
    "    \n",
    "    # update b until convergence\n",
    "    conv = 0\n",
    "    k = 1\n",
    "    while conv == 0 and k < kmax:\n",
    "        \n",
    "        b0 = b\n",
    "\n",
    "        eta = np.dot(X,b)\n",
    "        mu = np.exp(eta)/(1 + np.exp(eta))\n",
    "        w = np.sqrt(mu*(1-mu))\n",
    "        \n",
    "        # update b\n",
    "        U = np.multiply(w.reshape((n,1)),X)\n",
    "        z = np.dot(U,b) + (1 / w) * (y - mu)\n",
    "        b = np.linalg.lstsq(U,z,rcond=None)[0]\n",
    "        \n",
    "        # check convergence and increment k\n",
    "        conv = max(abs(b-b0)) < tol\n",
    "        k = k + 1\n",
    "\n",
    "    return b, U, z\n"
   ]
  },
  {
   "cell_type": "code",
   "execution_count": 4,
   "id": "3e3cafe4",
   "metadata": {},
   "outputs": [],
   "source": [
    "# Parametric programming with the pseudo-response\n",
    "def logreg_pp(X,y,lam):\n",
    "\n",
    "    # fit the regression\n",
    "    bmle, Umle, zmle = logreg(X,y)\n",
    "    \n",
    "    # set tuning parameter for the lasso\n",
    "    cov = np.identity(n)\n",
    "    \n",
    "    # some tuning parameter set in Le Duy's code\n",
    "    threshold = 20\n",
    "    \n",
    "    # remove effect of the intercept column from both zmle and Umle\n",
    "    z = zmle\n",
    "    u0 = Umle[:,0]\n",
    "    Pu0 = 1 / sum(u0**2) * np.outer(u0,u0.T)\n",
    "    U = np.delete(Umle,0,1)\n",
    "    U = U - np.matmul(Pu0,U)\n",
    "    lasso = linear_model.Lasso(alpha=lam, fit_intercept=False)\n",
    "    lasso.fit(U,z)\n",
    "    bh = lasso.coef_\n",
    "    \n",
    "    p_val = [None]*p\n",
    "    CI_lo = [None]*p\n",
    "    CI_up = [None]*p\n",
    "   \n",
    "    # prepare for pp\n",
    "    z = z.reshape((n,1))\n",
    "    A, XA, Ac, XAc, bhA = util.construct_A_XA_Ac_XAc_bhA(U, bh, n, p)\n",
    "    \n",
    "    # obtain pp p-values and CIs for each coefficient in selected model\n",
    "    for j_selected in A:\n",
    "        etaj, etajTy = util.construct_test_statistic(j_selected, XA, z, A)\n",
    "        list_zk, list_bhz, list_active_set = parametric_lasso.run_parametric_lasso(U, z, lam, etaj, n, p, threshold)\n",
    "        p_val[j_selected] = util.p_value(A, bh, list_active_set, list_zk, list_bhz, etaj, etajTy, cov)\n",
    "        CI = ci.compute_ci(A, bh, list_active_set, list_zk, list_bhz, etaj, etajTy, cov, bh[j_selected], 0.05)\n",
    "        CI_lo[j_selected] = CI[0]\n",
    "        CI_up[j_selected] = CI[1]\n",
    "        \n",
    "    return A, bh, p_val, CI_lo, CI_up"
   ]
  },
  {
   "cell_type": "markdown",
   "id": "dc3587e0",
   "metadata": {},
   "source": [
    "### Simulation"
   ]
  },
  {
   "cell_type": "code",
   "execution_count": 5,
   "id": "5c37bcd9",
   "metadata": {},
   "outputs": [],
   "source": [
    "# Simulation example\n",
    "n = 500\n",
    "p = 20\n",
    "beta_vec = [-2, 2, 2, 1] + [0] * 17\n",
    "X, y = gen_Xy(n=n, beta_vec=beta_vec)\n",
    "A, bh, p_val, CI_lo, CI_up = logreg_pp(X, y, lam=0.01)"
   ]
  },
  {
   "cell_type": "code",
   "execution_count": 6,
   "id": "90d7f648",
   "metadata": {},
   "outputs": [
    {
     "data": {
      "text/plain": [
       "[0, 1, 2, 6, 7, 8, 11, 13, 14, 19]"
      ]
     },
     "execution_count": 6,
     "metadata": {},
     "output_type": "execute_result"
    }
   ],
   "source": [
    "A"
   ]
  },
  {
   "cell_type": "code",
   "execution_count": 7,
   "id": "30aa0229",
   "metadata": {},
   "outputs": [
    {
     "data": {
      "text/plain": [
       "[0.0153056673711911,\n",
       " 0.00208832602176523,\n",
       " 0.0027052210054154813,\n",
       " None,\n",
       " None,\n",
       " None,\n",
       " 0.005502465557381875,\n",
       " 0.9963352716726235,\n",
       " 0.8023860871218704,\n",
       " None,\n",
       " None,\n",
       " 0.9439996595221406,\n",
       " None,\n",
       " 0.36409852040771573,\n",
       " 0.2778673082810531,\n",
       " None,\n",
       " None,\n",
       " None,\n",
       " None,\n",
       " 0.3242671832366377]"
      ]
     },
     "execution_count": 7,
     "metadata": {},
     "output_type": "execute_result"
    }
   ],
   "source": [
    "p_val"
   ]
  }
 ],
 "metadata": {
  "kernelspec": {
   "display_name": "Python 3 (ipykernel)",
   "language": "python",
   "name": "python3"
  },
  "language_info": {
   "codemirror_mode": {
    "name": "ipython",
    "version": 3
   },
   "file_extension": ".py",
   "mimetype": "text/x-python",
   "name": "python",
   "nbconvert_exporter": "python",
   "pygments_lexer": "ipython3",
   "version": "3.10.5"
  }
 },
 "nbformat": 4,
 "nbformat_minor": 5
}
