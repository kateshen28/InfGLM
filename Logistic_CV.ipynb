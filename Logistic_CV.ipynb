{
 "cells": [
  {
   "cell_type": "code",
   "execution_count": 1,
   "id": "e6af1502-4ab5-4fbf-a2ed-0c2f12e2257c",
   "metadata": {},
   "outputs": [],
   "source": [
    "import numpy as np\n",
    "import pandas as pd\n",
    "import mpmath\n",
    "import matplotlib\n",
    "import sklearn\n",
    "import statsmodels.api as sm\n",
    "import matplotlib.pyplot as plt\n",
    "from sklearn import linear_model\n",
    "import parametric_lasso \n",
    "import crossvalidation_event\n",
    "import util \n",
    "import ci \n",
    "from sklearn.linear_model import LogisticRegression\n",
    "from scipy import stats\n",
    "import warnings\n",
    "import random"
   ]
  },
  {
   "cell_type": "code",
   "execution_count": 2,
   "id": "0eccd22c",
   "metadata": {},
   "outputs": [],
   "source": [
    "# Generate Data\n",
    "def gen_Xy(n, beta_vec):\n",
    "    p = len(beta_vec) - 1  \n",
    "    X = np.random.randn(n, p)\n",
    "    X = np.hstack([np.ones((n, 1)), X])\n",
    "    eta = np.dot(X, beta_vec)\n",
    "    pr = 1 / (1 + np.exp(-eta))\n",
    "    y = np.random.binomial(1, pr)\n",
    "    \n",
    "    return X, y"
   ]
  },
  {
   "cell_type": "code",
   "execution_count": 3,
   "id": "139115fa",
   "metadata": {},
   "outputs": [],
   "source": [
    "# MLE\n",
    "def logreg(X,y,tol=1e-6,kmax=20):\n",
    "\n",
    "    # get dimension of X\n",
    "    dm = X.shape\n",
    "    n = dm[0] \n",
    "    p = dm[1]\n",
    "    \n",
    "    # initialize b \n",
    "    b = np.zeros(p)\n",
    "    \n",
    "    # update b until convergence\n",
    "    conv = 0\n",
    "    k = 1\n",
    "    while conv == 0 and k < kmax:\n",
    "        \n",
    "        b0 = b\n",
    "\n",
    "        eta = np.dot(X,b)\n",
    "        mu = np.exp(eta)/(1 + np.exp(eta))\n",
    "        w = np.sqrt(mu*(1-mu))\n",
    "        \n",
    "        # update b\n",
    "        U = np.multiply(w.reshape((n,1)),X)\n",
    "        z = np.dot(U,b) + (1 / w) * (y - mu)\n",
    "        b = np.linalg.lstsq(U,z,rcond=None)[0]\n",
    "        \n",
    "        # check convergence and increment k\n",
    "        conv = max(abs(b-b0)) < tol\n",
    "        k = k + 1\n",
    "\n",
    "    return b, U, z\n"
   ]
  },
  {
   "cell_type": "code",
   "execution_count": 4,
   "id": "8a04ac28",
   "metadata": {},
   "outputs": [],
   "source": [
    "def linreg_pp_cv(X,y,list_lam,train,cov_scale):\n",
    "    \n",
    "    threshold = 20\n",
    "    cov = np.identity(n) * cov_scale \n",
    "    \n",
    "    cutoff = int(train * n )\n",
    "    \n",
    "    X_train = X[:cutoff, :]\n",
    "    y_train = y[:cutoff]\n",
    "    \n",
    "    X_val = X[cutoff:n, :]\n",
    "    y_val = y[cutoff:n]\n",
    "    \n",
    "    min_cv_error = np.Inf\n",
    "    lam = None\n",
    "    lam_idx = None\n",
    "    \n",
    "    for i in range(len(list_lam)):\n",
    "        \n",
    "        each_lam = list_lam[i]\n",
    "        clf_lam = linear_model.Lasso(alpha=each_lam, fit_intercept=False)\n",
    "        clf_lam.fit(X_train, y_train)\n",
    "        bh_lam = clf_lam.coef_\n",
    "        bh_lam = bh_lam.reshape((len(bh_lam), 1))\n",
    "        temp_cv_error = 0.5*sum((y_val - (np.dot(X_val, bh_lam)).flatten())**2)\n",
    "        \n",
    "        if temp_cv_error < min_cv_error:\n",
    "            min_cv_error = temp_cv_error\n",
    "            lam = each_lam\n",
    "            lam_idx = i\n",
    "    \n",
    "    best_lam = list_lam[lam_idx]\n",
    "    clf = linear_model.Lasso(alpha=lam, fit_intercept=False)\n",
    "    clf.fit(X, y)\n",
    "    bh = clf.coef_\n",
    "    \n",
    "    y = y.reshape((n, 1))\n",
    "    \n",
    "    \n",
    "    A, XA, Ac, XAc, bhA = util.construct_A_XA_Ac_XAc_bhA(X, bh, n, p)\n",
    "\n",
    "    p_val = [None]*p\n",
    "    CI_lo_005 = [None]*p\n",
    "    CI_up_005 = [None]*p\n",
    "    \n",
    "    for j_selected in A:\n",
    "    \n",
    "        etaj, etajTy = util.construct_test_statistic(j_selected, XA, y, A)\n",
    "    \n",
    "        a, b = crossvalidation_event.compute_a_b(y, etaj, n)\n",
    "        a_flatten = a.flatten()\n",
    "        b_flatten = b.flatten()\n",
    "        a_train = (a_flatten[:cutoff]).reshape((cutoff, 1))\n",
    "        b_train = (b_flatten[:cutoff]).reshape((cutoff, 1))\n",
    "    \n",
    "        a_val = (a_flatten[cutoff:n]).reshape((n - cutoff, 1))\n",
    "        b_val = (b_flatten[cutoff:n]).reshape((n - cutoff, 1))\n",
    "    \n",
    "        list_zk_min_lam, list_bhz_min_lam, list_active_set_min_lam, list_etaAkz_min_lam, list_bhAz_min_lam = \\\n",
    "            parametric_lasso.run_parametric_lasso_cv(X_train, list_lam[lam_idx], X_train.shape[0], p, threshold, a_train, b_train)\n",
    "    \n",
    "        piecewise_quadratic_min_lam = crossvalidation_event.construct_piecewise_quadratic(a_val, b_val, X_val, list_zk_min_lam,\n",
    "                                                                      list_active_set_min_lam, list_etaAkz_min_lam,\n",
    "                                                                      list_bhAz_min_lam)\n",
    "    \n",
    "        set_piecewise_funct = [piecewise_quadratic_min_lam]\n",
    "        set_list_zk = [list_zk_min_lam]\n",
    "    \n",
    "        for i in range(len(list_lam)):\n",
    "            if i == lam_idx:\n",
    "                continue\n",
    "    \n",
    "            list_zk_i, list_bhz_i, list_active_set_i, list_etaAkz_i, list_bhAz_i = \\\n",
    "                parametric_lasso.run_parametric_lasso_cv(X_train, list_lam[i], X_train.shape[0], p, threshold, a_train, b_train)\n",
    "    \n",
    "            piecewise_quadratic_i = crossvalidation_event.construct_piecewise_quadratic(a_val, b_val, X_val, list_zk_i,\n",
    "                                                                  list_active_set_i, list_etaAkz_i, list_bhAz_i)\n",
    "    \n",
    "            set_piecewise_funct.append(piecewise_quadratic_i)\n",
    "            set_list_zk.append(list_zk_i)\n",
    "    \n",
    "        z_interval_cv = crossvalidation_event.construct_z_interval_cv(set_piecewise_funct, set_list_zk)\n",
    "    \n",
    "        list_zk, list_bhz, list_active_set = parametric_lasso.run_parametric_lasso(X, y, lam, etaj, n, p, threshold)\n",
    "    \n",
    "        z_interval_m = crossvalidation_event.construct_m_z_interval(A, list_active_set, list_zk)\n",
    "    \n",
    "        z_interval = crossvalidation_event.construct_z_interval(z_interval_m, z_interval_cv)\n",
    "    \n",
    "        pivot = util.pivot_with_specified_interval(z_interval, etaj, etajTy, cov, 0)\n",
    "\n",
    "        if pivot is None:\n",
    "            p_val[j_selected] = None\n",
    "        else: \n",
    "            p_val[j_selected] = 2 * min(1 - pivot, pivot)\n",
    "\n",
    "        confidence_interval_005 = ci.compute_ci_with_specified_interval(z_interval, etaj, etajTy, cov, bh[j_selected], 0.05)\n",
    "        if confidence_interval_005 is None:\n",
    "            CI_lo_005[j_selected] = None\n",
    "            CI_up_005[j_selected] = None\n",
    "        else:\n",
    "            CI_lo_005[j_selected] = confidence_interval_005[0]\n",
    "            CI_up_005[j_selected] = confidence_interval_005[1]\n",
    "        \n",
    "    return best_lam, A, bh, p_val, CI_lo_005, CI_up_005"
   ]
  },
  {
   "cell_type": "code",
   "execution_count": 5,
   "id": "5fe8ed90",
   "metadata": {},
   "outputs": [],
   "source": [
    "def logreg_pp_cv(X,y,list_lambda,train):\n",
    "    \n",
    "    # fit the logistic regression\n",
    "    bmle, Umle, zmle = logreg(X,y)\n",
    "    \n",
    "    # remove effect of the intercept column from both zmle and Umle\n",
    "    u0 = Umle[:,0]\n",
    "    z = zmle - u0*bmle[0]\n",
    "    Pu0 = 1 / sum(u0**2) * np.outer(u0,u0.T)\n",
    "    U = np.delete(Umle,0,1)\n",
    "    U = U - np.matmul(Pu0,U)\n",
    "    \n",
    "    # feed U and z into the linreg_pp_cv function\n",
    "    best_lam, A, bh, p_val, CI_lo_005, CI_up_005 = linreg_pp_cv(U,z,list_lambda,train,cov_scale = 1)\n",
    "  \n",
    "    return best_lam, A, bh, p_val, CI_lo_005, CI_up_005"
   ]
  },
  {
   "cell_type": "markdown",
   "id": "102325d5",
   "metadata": {},
   "source": [
    "### Simulation"
   ]
  },
  {
   "cell_type": "code",
   "execution_count": 6,
   "id": "ec7c555b",
   "metadata": {},
   "outputs": [],
   "source": [
    "n = 500\n",
    "p = 20\n",
    "beta_vec = [-2, 2, 2, 1] + [0] * 17\n",
    "X, y = gen_Xy(n=n, beta_vec=beta_vec)\n",
    "lambdas_lo = 1/n\n",
    "lambdas_hi = 6/n\n",
    "n_lambdas = 20\n",
    "lambdas = np.logspace(np.log10(lambdas_lo), np.log10(lambdas_hi), num=n_lambdas)\n",
    "train = 0.7\n",
    "best_lam, A, bh, p_val, CI_lo, CI_up = logreg_pp_cv(X=X, y=y, list_lambda=lambdas, train=train)"
   ]
  },
  {
   "cell_type": "code",
   "execution_count": 7,
   "id": "6dde318c",
   "metadata": {},
   "outputs": [
    {
     "data": {
      "text/plain": [
       "array([0.002     , 0.00219779, 0.00241513, 0.00265397, 0.00291643,\n",
       "       0.00320484, 0.00352178, 0.00387006, 0.00425278, 0.00467335,\n",
       "       0.00513551, 0.00564337, 0.00620146, 0.00681474, 0.00748867,\n",
       "       0.00822924, 0.00904306, 0.00993735, 0.01092008, 0.012     ])"
      ]
     },
     "execution_count": 7,
     "metadata": {},
     "output_type": "execute_result"
    }
   ],
   "source": [
    "lambdas"
   ]
  },
  {
   "cell_type": "code",
   "execution_count": 8,
   "id": "3ba1e02a",
   "metadata": {},
   "outputs": [
    {
     "data": {
      "text/plain": [
       "0.012000000000000002"
      ]
     },
     "execution_count": 8,
     "metadata": {},
     "output_type": "execute_result"
    }
   ],
   "source": [
    "best_lam"
   ]
  },
  {
   "cell_type": "code",
   "execution_count": 9,
   "id": "7f58840f",
   "metadata": {},
   "outputs": [
    {
     "data": {
      "text/plain": [
       "[3.113331814574849e-11,\n",
       " 5.8393788471278185e-08,\n",
       " 8.89913427615241e-07,\n",
       " None,\n",
       " None,\n",
       " None,\n",
       " 0.8925405570137085,\n",
       " None,\n",
       " None,\n",
       " None,\n",
       " None,\n",
       " None,\n",
       " None,\n",
       " None,\n",
       " None,\n",
       " None,\n",
       " 0.796079186168132,\n",
       " None,\n",
       " None,\n",
       " None]"
      ]
     },
     "execution_count": 9,
     "metadata": {},
     "output_type": "execute_result"
    }
   ],
   "source": [
    "p_val"
   ]
  }
 ],
 "metadata": {
  "kernelspec": {
   "display_name": "Python 3 (ipykernel)",
   "language": "python",
   "name": "python3"
  },
  "language_info": {
   "codemirror_mode": {
    "name": "ipython",
    "version": 3
   },
   "file_extension": ".py",
   "mimetype": "text/x-python",
   "name": "python",
   "nbconvert_exporter": "python",
   "pygments_lexer": "ipython3",
   "version": "3.10.5"
  }
 },
 "nbformat": 4,
 "nbformat_minor": 5
}
