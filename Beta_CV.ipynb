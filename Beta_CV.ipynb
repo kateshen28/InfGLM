{
 "cells": [
  {
   "cell_type": "code",
   "execution_count": 1,
   "id": "e5c4503c",
   "metadata": {},
   "outputs": [],
   "source": [
    "import numpy as np\n",
    "import pandas as pd\n",
    "import matplotlib.pyplot as plt\n",
    "from scipy import special\n",
    "from sklearn import linear_model\n",
    "from mpmath import mp\n",
    "import parametric_lasso \n",
    "import util \n",
    "import crossvalidation_event \n",
    "import gen_data\n",
    "import ci \n",
    "import warnings\n",
    "from statsmodels.othermod.betareg import BetaModel"
   ]
  },
  {
   "cell_type": "code",
   "execution_count": 2,
   "id": "70778cc1",
   "metadata": {},
   "outputs": [],
   "source": [
    "# Generate data\n",
    "def gen_Xy(n,beta_vec,phi_true):\n",
    "    p = len(beta_vec)-1\n",
    "    X = np.column_stack((np.ones(n), np.random.normal(0,1,n*p).reshape(n,p)))\n",
    "    eta_true = np.dot(X,beta_vec)\n",
    "    mu_true = np.exp(eta_true)/(1 + np.exp(eta_true))\n",
    "    y = np.random.beta(mu_true*phi_true,(1-mu_true)*phi_true,n)\n",
    "    return X, y"
   ]
  },
  {
   "cell_type": "code",
   "execution_count": 3,
   "id": "14e96439",
   "metadata": {},
   "outputs": [],
   "source": [
    "# MLE\n",
    "def betareg(X,y,tol=1e-6,kmax=20):\n",
    "\n",
    "    # get dimension of X\n",
    "    dm = X.shape\n",
    "    n = dm[0]\n",
    "    p = dm[1] \n",
    "\n",
    "    # bound y away from 0 and 1 by 1e-6 for the sake of numerical stability\n",
    "    y = (y < 1e-6) * 1e-6 + (y > (1 - 1e-6)) * (1 - 1e-6) + y *( (y > 1e-6) & (y < (1 - 1e-6)))\n",
    "    \n",
    "    # compute transformed response values\n",
    "    y_tilde = np.log(y/(1-y))\n",
    "    \n",
    "    # initialize b and phi\n",
    "    b = np.zeros(p)\n",
    "    phi = 1\n",
    "    \n",
    "    # update b and phi until convergence\n",
    "    conv = 0\n",
    "    k = 1\n",
    "    while conv == 0 and k < kmax:\n",
    "        \n",
    "        b0 = b\n",
    "\n",
    "        eta = np.dot(X,b)\n",
    "        mu = np.exp(eta)/(1 + np.exp(eta))\n",
    "        d = mu*(1-mu)\n",
    "        w = d * np.sqrt(phi * (special.polygamma(1,mu*phi) + special.polygamma(1,(1-mu)*phi)))\n",
    "        mu_tilde = special.polygamma(0,mu*phi) - special.polygamma(0,(1-mu)*phi)\n",
    "        \n",
    "        # update b while holding phi fixed\n",
    "        U = np.multiply(w.reshape((n,1)),X)\n",
    "        z = np.dot(U,b) + d / w * (y_tilde - mu_tilde)\n",
    "        b = np.linalg.lstsq(U,z,rcond=None)[0]\n",
    "    \n",
    "        # update phi while holding b fixed\n",
    "        dphi = n*special.polygamma(0,phi) + np.sum(mu*(y_tilde - mu_tilde) + np.log(1-y) - special.polygamma(0,(1-mu)*phi))\n",
    "        d2phi = n*special.polygamma(1,phi) - np.sum(mu**2 * special.polygamma(1,mu*phi) + (1-mu)**2 * special.polygamma(1,(1-mu)*phi))\n",
    "        phi = phi - dphi / d2phi\n",
    "\n",
    "        # check convergence and increment k\n",
    "        conv = max(abs(b-b0)) < tol\n",
    "        k = k+1\n",
    "\n",
    "    return b, phi, U, z"
   ]
  },
  {
   "cell_type": "code",
   "execution_count": 4,
   "id": "9420739f",
   "metadata": {},
   "outputs": [],
   "source": [
    "# Parametric programming CV for linear regression\n",
    "def linreg_pp_cv(X,y,list_lam, train,cov_scale):\n",
    "    \n",
    "    threshold = 20\n",
    "    cov = np.identity(n) * cov_scale # so for beta regression put in cov_scale = 1/phi\n",
    "    \n",
    "    cutoff = int(train * n )\n",
    "    \n",
    "    X_train = X[:cutoff, :]\n",
    "    y_train = y[:cutoff]\n",
    "    \n",
    "    X_val = X[cutoff:n, :]\n",
    "    y_val = y[cutoff:n]\n",
    "    \n",
    "    min_cv_error = np.Inf\n",
    "    lam = None\n",
    "    lam_idx = None\n",
    "    \n",
    "    for i in range(len(list_lam)):\n",
    "        \n",
    "        each_lam = list_lam[i]\n",
    "        clf_lam = linear_model.Lasso(alpha=each_lam, fit_intercept=False)\n",
    "        clf_lam.fit(X_train, y_train)\n",
    "        bh_lam = clf_lam.coef_\n",
    "        bh_lam = bh_lam.reshape((len(bh_lam), 1))\n",
    "        temp_cv_error = 0.5*sum((y_val - (np.dot(X_val, bh_lam)).flatten())**2)\n",
    "        \n",
    "        if temp_cv_error < min_cv_error:\n",
    "            min_cv_error = temp_cv_error\n",
    "            lam = each_lam\n",
    "            lam_idx = i\n",
    "    \n",
    "    best_lam = list_lam[lam_idx]\n",
    "    clf = linear_model.Lasso(alpha=lam, fit_intercept=False)\n",
    "    clf.fit(X, y)\n",
    "    bh = clf.coef_\n",
    "    \n",
    "    y = y.reshape((n, 1))\n",
    "    \n",
    "    A, XA, Ac, XAc, bhA = util.construct_A_XA_Ac_XAc_bhA(X, bh, n, p)\n",
    "\n",
    "    p_val = [None]*p\n",
    "    CI_lo_005 = [None]*p\n",
    "    CI_up_005 = [None]*p\n",
    "    \n",
    "    for j_selected in A:\n",
    "    \n",
    "        etaj, etajTy = util.construct_test_statistic(j_selected, XA, y, A)\n",
    "    \n",
    "        a, b = crossvalidation_event.compute_a_b(y, etaj, n)\n",
    "        a_flatten = a.flatten()\n",
    "        b_flatten = b.flatten()\n",
    "        a_train = (a_flatten[:cutoff]).reshape((cutoff, 1))\n",
    "        b_train = (b_flatten[:cutoff]).reshape((cutoff, 1))\n",
    "    \n",
    "        a_val = (a_flatten[cutoff:n]).reshape((n - cutoff, 1))\n",
    "        b_val = (b_flatten[cutoff:n]).reshape((n - cutoff, 1))\n",
    "    \n",
    "        list_zk_min_lam, list_bhz_min_lam, list_active_set_min_lam, list_etaAkz_min_lam, list_bhAz_min_lam = \\\n",
    "            parametric_lasso.run_parametric_lasso_cv(X_train, list_lam[lam_idx], X_train.shape[0], p, threshold, a_train, b_train)\n",
    "    \n",
    "        piecewise_quadratic_min_lam = crossvalidation_event.construct_piecewise_quadratic(a_val, b_val, X_val, list_zk_min_lam,\n",
    "                                                                      list_active_set_min_lam, list_etaAkz_min_lam,\n",
    "                                                                      list_bhAz_min_lam)\n",
    "    \n",
    "        set_piecewise_funct = [piecewise_quadratic_min_lam]\n",
    "        set_list_zk = [list_zk_min_lam]\n",
    "    \n",
    "        for i in range(len(list_lam)):\n",
    "            if i == lam_idx:\n",
    "                continue\n",
    "    \n",
    "            list_zk_i, list_bhz_i, list_active_set_i, list_etaAkz_i, list_bhAz_i = \\\n",
    "                parametric_lasso.run_parametric_lasso_cv(X_train, list_lam[i], X_train.shape[0], p, threshold, a_train, b_train)\n",
    "    \n",
    "            piecewise_quadratic_i = crossvalidation_event.construct_piecewise_quadratic(a_val, b_val, X_val, list_zk_i,\n",
    "                                                                  list_active_set_i, list_etaAkz_i, list_bhAz_i)\n",
    "    \n",
    "            set_piecewise_funct.append(piecewise_quadratic_i)\n",
    "            set_list_zk.append(list_zk_i)\n",
    "    \n",
    "        z_interval_cv = crossvalidation_event.construct_z_interval_cv(set_piecewise_funct, set_list_zk)\n",
    "    \n",
    "        list_zk, list_bhz, list_active_set = parametric_lasso.run_parametric_lasso(X, y, lam, etaj, n, p, threshold)\n",
    "    \n",
    "        z_interval_m = crossvalidation_event.construct_m_z_interval(A, list_active_set, list_zk)\n",
    "    \n",
    "        z_interval = crossvalidation_event.construct_z_interval(z_interval_m, z_interval_cv)\n",
    "    \n",
    "        pivot = util.pivot_with_specified_interval(z_interval, etaj, etajTy, cov, 0)\n",
    "\n",
    "        if pivot is None:\n",
    "            p_val[j_selected] = None\n",
    "        else: \n",
    "            p_val[j_selected] = 2 * min(1 - pivot, pivot)\n",
    "\n",
    "        confidence_interval_005 = ci.compute_ci_with_specified_interval(z_interval, etaj, etajTy, cov, bh[j_selected], 0.05)\n",
    "        if confidence_interval_005 is None:\n",
    "            CI_lo_005[j_selected] = None\n",
    "            CI_up_005[j_selected] = None\n",
    "        else:\n",
    "            CI_lo_005[j_selected] = confidence_interval_005[0]\n",
    "            CI_up_005[j_selected] = confidence_interval_005[1]\n",
    "        \n",
    "    return best_lam, A, bh, p_val, CI_lo_005, CI_up_005"
   ]
  },
  {
   "cell_type": "code",
   "execution_count": 5,
   "id": "f1f469b9",
   "metadata": {},
   "outputs": [],
   "source": [
    "# Parametric programming CV for beta regression\n",
    "def betareg_pp_cv(X,y,list_lambda,train):\n",
    "    \n",
    "    # fit the beta regression\n",
    "    bmle, phimle, Umle, zmle = betareg(X,y)\n",
    "    \n",
    "    # remove effect of the intercept column from both zmle and Umle\n",
    "    u0 = Umle[:,0]\n",
    "    z = zmle - u0*bmle[0]\n",
    "    Pu0 = 1 / sum(u0**2) * np.outer(u0,u0.T)\n",
    "    U = np.delete(Umle,0,1)\n",
    "    U = U - np.matmul(Pu0,U)\n",
    "    \n",
    "    # feed U and z as well as 1/phi into the linreg_pp_cv function\n",
    "    best_lam, A, bh, p_val, CI_lo_005, CI_up_005 = linreg_pp_cv(U,z,list_lambda,train,cov_scale = 1/phimle)\n",
    "\n",
    "    return best_lam, A, bh, p_val, CI_lo_005, CI_up_005"
   ]
  },
  {
   "cell_type": "markdown",
   "id": "20e1ca73",
   "metadata": {},
   "source": [
    "### Simulation"
   ]
  },
  {
   "cell_type": "code",
   "execution_count": 6,
   "id": "c476802e",
   "metadata": {},
   "outputs": [],
   "source": [
    "n = 500\n",
    "p = 20\n",
    "beta_vec = [-2,1,-1/2,1/2] + [0]*17\n",
    "phi_true = 10\n",
    "\n",
    "lambdas_lo = 0.002\n",
    "lambdas_hi = 0.010\n",
    "n_lambdas = 20\n",
    "lambdas = np.logspace(np.log10(lambdas_lo), np.log10(lambdas_hi), num = n_lambdas)\n",
    "train = 0.7\n",
    "\n",
    "X, y = gen_Xy(n=n, beta_vec=beta_vec, phi_true = phi_true)\n",
    "best_lam, A, bh, p_val, CI_lo, CI_up = betareg_pp_cv(X=X, y=y, list_lambda=lambdas, train=train)"
   ]
  },
  {
   "cell_type": "code",
   "execution_count": 7,
   "id": "642d1a7e",
   "metadata": {},
   "outputs": [
    {
     "data": {
      "text/plain": [
       "array([0.002     , 0.0021768 , 0.00236922, 0.00257866, 0.00280661,\n",
       "       0.00305471, 0.00332474, 0.00361864, 0.00393852, 0.00428668,\n",
       "       0.00466562, 0.00507805, 0.00552694, 0.00601551, 0.00654727,\n",
       "       0.00712604, 0.00775597, 0.00844159, 0.00918781, 0.01      ])"
      ]
     },
     "execution_count": 7,
     "metadata": {},
     "output_type": "execute_result"
    }
   ],
   "source": [
    "lambdas"
   ]
  },
  {
   "cell_type": "code",
   "execution_count": 8,
   "id": "caa903e1",
   "metadata": {},
   "outputs": [
    {
     "data": {
      "text/plain": [
       "0.002578657607116292"
      ]
     },
     "execution_count": 8,
     "metadata": {},
     "output_type": "execute_result"
    }
   ],
   "source": [
    "best_lam"
   ]
  },
  {
   "cell_type": "code",
   "execution_count": 9,
   "id": "c306bb9d",
   "metadata": {},
   "outputs": [
    {
     "data": {
      "text/plain": [
       "[0.0,\n",
       " 0.0016262195515221991,\n",
       " 0.0,\n",
       " 0.9464515401472182,\n",
       " 0.9751194794556318,\n",
       " 0.49086846701149617,\n",
       " None,\n",
       " None,\n",
       " 0.24855679241855125,\n",
       " None,\n",
       " None,\n",
       " 0.6490709907117287,\n",
       " 0.40833070308295305,\n",
       " None,\n",
       " 0.2439821572555217,\n",
       " 0.33002232107754803,\n",
       " 0.8042033680986491,\n",
       " 0.14288698742456368,\n",
       " 0.8747192857440703,\n",
       " 0.2491136188019473]"
      ]
     },
     "execution_count": 9,
     "metadata": {},
     "output_type": "execute_result"
    }
   ],
   "source": [
    "p_val"
   ]
  }
 ],
 "metadata": {
  "kernelspec": {
   "display_name": "Python 3 (ipykernel)",
   "language": "python",
   "name": "python3"
  },
  "language_info": {
   "codemirror_mode": {
    "name": "ipython",
    "version": 3
   },
   "file_extension": ".py",
   "mimetype": "text/x-python",
   "name": "python",
   "nbconvert_exporter": "python",
   "pygments_lexer": "ipython3",
   "version": "3.10.5"
  }
 },
 "nbformat": 4,
 "nbformat_minor": 5
}
