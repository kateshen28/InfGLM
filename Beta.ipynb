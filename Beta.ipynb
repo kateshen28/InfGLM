{
 "cells": [
  {
   "cell_type": "code",
   "execution_count": 1,
   "id": "ad110c7e-8018-4872-93f6-bf66d1f8bd93",
   "metadata": {
    "scrolled": true
   },
   "outputs": [],
   "source": [
    "import numpy as np\n",
    "import pandas as pd\n",
    "import matplotlib.pyplot as plt\n",
    "from scipy import special\n",
    "from sklearn import linear_model\n",
    "import parametric_lasso \n",
    "import util \n",
    "import ci \n",
    "from statsmodels.othermod.betareg import BetaModel\n",
    "import warnings"
   ]
  },
  {
   "cell_type": "code",
   "execution_count": 2,
   "id": "7be629a5",
   "metadata": {},
   "outputs": [],
   "source": [
    "# Generate data\n",
    "def gen_Xy(n,beta_vec,phi_true):\n",
    "    p = len(beta_vec)-1\n",
    "    X = np.column_stack((np.ones(n), np.random.normal(0,1,n*p).reshape(n,p)))\n",
    "    eta_true = np.dot(X,beta_vec)\n",
    "    mu_true = np.exp(eta_true)/(1 + np.exp(eta_true))\n",
    "    y = np.random.beta(mu_true*phi_true,(1-mu_true)*phi_true,n)\n",
    "    return X, y"
   ]
  },
  {
   "cell_type": "code",
   "execution_count": 3,
   "id": "f57d8d86-5801-4d01-8629-14047941d250",
   "metadata": {
    "scrolled": true
   },
   "outputs": [],
   "source": [
    "# MLE\n",
    "def betareg(X,y,tol=1e-6,kmax=20):\n",
    "\n",
    "    # get dimension of X\n",
    "    dm = X.shape\n",
    "    n = dm[0]\n",
    "    p = dm[1]\n",
    "\n",
    "    # bound y away from 0 and 1 by 1e-6 for the sake of numerical stability\n",
    "    y = (y < 1e-6) * 1e-6 + (y > (1 - 1e-6)) * (1 - 1e-6) + y *( (y > 1e-6) & (y < (1 - 1e-6)))\n",
    "    \n",
    "    # compute transformed response values\n",
    "    y_tilde = np.log(y/(1-y))\n",
    "    \n",
    "    # initialize b and phi\n",
    "    b = np.zeros(p)\n",
    "    phi = 1\n",
    "    \n",
    "    # update b and phi until convergence\n",
    "    conv = 0\n",
    "    k = 1\n",
    "    while conv == 0 and k < kmax:\n",
    "        \n",
    "        b0 = b\n",
    "\n",
    "        eta = np.dot(X,b)\n",
    "        mu = np.exp(eta)/(1 + np.exp(eta))\n",
    "        d = mu*(1-mu)\n",
    "        w = d * np.sqrt(phi * (special.polygamma(1,mu*phi) + special.polygamma(1,(1-mu)*phi)))\n",
    "        mu_tilde = special.polygamma(0,mu*phi) - special.polygamma(0,(1-mu)*phi)\n",
    "        \n",
    "        # update b while holding phi fixed\n",
    "        U = np.multiply(w.reshape((n,1)),X)\n",
    "        z = np.dot(U,b) + d / w * (y_tilde - mu_tilde)\n",
    "        b = np.linalg.lstsq(U,z,rcond=None)[0]\n",
    "    \n",
    "        # update phi while holding b fixed\n",
    "        dphi = n*special.polygamma(0,phi) + np.sum(mu*(y_tilde - mu_tilde) + np.log(1-y) - special.polygamma(0,(1-mu)*phi))\n",
    "        d2phi = n*special.polygamma(1,phi) - np.sum(mu**2 * special.polygamma(1,mu*phi) + (1-mu)**2 * special.polygamma(1,(1-mu)*phi))\n",
    "        phi = phi - dphi / d2phi\n",
    "\n",
    "        # check convergence and increment k\n",
    "        conv = max(abs(b-b0)) < tol\n",
    "        k = k+1\n",
    "\n",
    "    return b, phi, U, z\n"
   ]
  },
  {
   "cell_type": "code",
   "execution_count": 4,
   "id": "2c03366d",
   "metadata": {},
   "outputs": [],
   "source": [
    "# Parametric programming with the pseudo-response\n",
    "def betareg_pp(X,y,lam):\n",
    "\n",
    "    # fit the beta regression\n",
    "    bmle, phimle, Umle, zmle = betareg(X,y)\n",
    "\n",
    "    # set tuning parameter for the lasso\n",
    "    cov = np.identity(n) / phimle\n",
    "    \n",
    "    # some tuning parameter set thus in Le Duy's code\n",
    "    threshold = 20\n",
    "    \n",
    "    # remove effect of the intercept column from both zmle and Umle\n",
    "    z = zmle\n",
    "    u0 = Umle[:,0]\n",
    "    Pu0 = 1 / sum(u0**2) * np.outer(u0,u0.T)\n",
    "    U = np.delete(Umle,0,1)\n",
    "    U = U - np.matmul(Pu0,U)\n",
    "    lasso = linear_model.Lasso(alpha=lam, fit_intercept=False)\n",
    "    lasso.fit(U,z)\n",
    "    bh = lasso.coef_\n",
    "\n",
    "    p_val = [None]*p\n",
    "    CI_lo = [None]*p\n",
    "    CI_up = [None]*p\n",
    "    \n",
    "    # prepare for pp\n",
    "    z = z.reshape((n,1))\n",
    "    A, XA, Ac, XAc, bhA = util.construct_A_XA_Ac_XAc_bhA(U, bh, n, p)\n",
    "\n",
    "    # obtain pp p-values for each coefficient in selected model\n",
    "    for j_selected in A:\n",
    "        etaj, etajTy = util.construct_test_statistic(j_selected, XA, z, A)\n",
    "        list_zk, list_bhz, list_active_set = parametric_lasso.run_parametric_lasso(U, z, lam, etaj, n, p, threshold)\n",
    "        p_val[j_selected] = util.p_value(A, bh, list_active_set, list_zk, list_bhz, etaj, etajTy, cov)\n",
    "        CI = ci.compute_ci(A, bh, list_active_set, list_zk, list_bhz, etaj, etajTy, cov, bh[j_selected], 0.05)\n",
    "        CI_lo[j_selected] = CI[0]\n",
    "        CI_up[j_selected] = CI[1]\n",
    "    \n",
    "    return A, bh, p_val, CI_lo, CI_up"
   ]
  },
  {
   "cell_type": "markdown",
   "id": "e6c1339d",
   "metadata": {},
   "source": [
    "### Simulation"
   ]
  },
  {
   "cell_type": "code",
   "execution_count": 6,
   "id": "d4dc6394-4866-48dd-a551-6367e0dd2b36",
   "metadata": {
    "scrolled": true
   },
   "outputs": [],
   "source": [
    "n = 500\n",
    "p = 20\n",
    "beta_vec = [-2, 1, -1/2, 1/2] + [0] * 17\n",
    "phi_true = 10\n",
    "X, y = gen_Xy(n=n, beta_vec=beta_vec, phi_true = phi_true)\n",
    "A, bh, p_val, CI_lo, CI_up = betareg_pp(X=X, y=y, lam=0.005)    \n"
   ]
  },
  {
   "cell_type": "code",
   "execution_count": null,
   "id": "49ec1ccf",
   "metadata": {},
   "outputs": [],
   "source": []
  }
 ],
 "metadata": {
  "kernelspec": {
   "display_name": "Python 3 (ipykernel)",
   "language": "python",
   "name": "python3"
  },
  "language_info": {
   "codemirror_mode": {
    "name": "ipython",
    "version": 3
   },
   "file_extension": ".py",
   "mimetype": "text/x-python",
   "name": "python",
   "nbconvert_exporter": "python",
   "pygments_lexer": "ipython3",
   "version": "3.10.5"
  }
 },
 "nbformat": 4,
 "nbformat_minor": 5
}
