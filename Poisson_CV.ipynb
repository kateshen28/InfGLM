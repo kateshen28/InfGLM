{
 "cells": [
  {
   "cell_type": "code",
   "execution_count": 1,
   "id": "e6af1502-4ab5-4fbf-a2ed-0c2f12e2257c",
   "metadata": {},
   "outputs": [],
   "source": [
    "import numpy as np\n",
    "import pandas as pd\n",
    "import mpmath\n",
    "import matplotlib\n",
    "import sklearn\n",
    "import statsmodels.api as sm\n",
    "import matplotlib.pyplot as plt\n",
    "from sklearn import linear_model\n",
    "import parametric_lasso\n",
    "import gen_data\n",
    "import util\n",
    "import ci\n",
    "from sklearn.linear_model import LogisticRegression\n",
    "from scipy import stats\n",
    "import crossvalidation_event\n",
    "import warnings"
   ]
  },
  {
   "cell_type": "code",
   "execution_count": 2,
   "id": "3519d723-7f22-4921-a57d-c2cd32437026",
   "metadata": {},
   "outputs": [],
   "source": [
    "# Generate data\n",
    "def gen_Xy(n, beta_vec):\n",
    "    p = len(beta_vec) - 1 \n",
    "    X = np.random.randn(n, p)\n",
    "    X = np.hstack([np.ones((n, 1)), X])\n",
    "    eta = np.dot(X, beta_vec)\n",
    "    mu = np.exp(eta)\n",
    "    y = np.random.poisson(mu)\n",
    "    \n",
    "    return X,y"
   ]
  },
  {
   "cell_type": "code",
   "execution_count": 3,
   "id": "c096cce7",
   "metadata": {},
   "outputs": [],
   "source": [
    "# MLE\n",
    "def poireg(X,y):\n",
    "    poisson_model = sm.GLM(y, X, family=sm.families.Poisson())\n",
    "    poisson_results = poisson_model.fit()\n",
    "    b = poisson_results.params\n",
    "    eta = np.dot(X,b)\n",
    "    mu = np.exp(eta)\n",
    "    w = np.sqrt(mu)\n",
    "    U = np.multiply(w.reshape((n,1)),X)\n",
    "    z = np.dot(U,b) + (1 / w) * (y - mu)\n",
    "    \n",
    "    return b, U, z"
   ]
  },
  {
   "cell_type": "code",
   "execution_count": 4,
   "id": "ffc6bca9-60a5-482f-8fdb-12692938a017",
   "metadata": {},
   "outputs": [],
   "source": [
    "# Parametric programming CV for linear regression\n",
    "def linreg_pp_cv(X,y,list_lam,train,cov_scale):\n",
    "    \n",
    "    threshold = 20\n",
    "    cov = np.identity(n) * cov_scale # so for beta regression put in cov_scale = 1/phi\n",
    "    \n",
    "    cutoff = int(train * n )\n",
    "    \n",
    "    X_train = X[:cutoff, :]\n",
    "    y_train = y[:cutoff]\n",
    "    \n",
    "    X_val = X[cutoff:n, :]\n",
    "    y_val = y[cutoff:n]\n",
    "    \n",
    "    min_cv_error = np.Inf\n",
    "    lam = None\n",
    "    lam_idx = None\n",
    "    \n",
    "    for i in range(len(list_lam)):\n",
    "        \n",
    "        each_lam = list_lam[i]\n",
    "        clf_lam = linear_model.Lasso(alpha=each_lam, fit_intercept=False)\n",
    "        clf_lam.fit(X_train, y_train)\n",
    "        bh_lam = clf_lam.coef_\n",
    "        bh_lam = bh_lam.reshape((len(bh_lam), 1))\n",
    "        temp_cv_error = 0.5*sum((y_val - (np.dot(X_val, bh_lam)).flatten())**2)\n",
    "        \n",
    "        if temp_cv_error < min_cv_error:\n",
    "            min_cv_error = temp_cv_error\n",
    "            lam = each_lam\n",
    "            lam_idx = i\n",
    "    \n",
    "    best_lam = list_lam[lam_idx]\n",
    "    clf = linear_model.Lasso(alpha=lam, fit_intercept=False)\n",
    "    clf.fit(X, y)\n",
    "    bh = clf.coef_\n",
    "    \n",
    "    y = y.reshape((n, 1))\n",
    "    \n",
    "    \n",
    "    A, XA, Ac, XAc, bhA = util.construct_A_XA_Ac_XAc_bhA(X, bh, n, p)\n",
    "\n",
    "    p_val = [None]*p\n",
    "    CI_lo_005 = [None]*p\n",
    "    CI_up_005 = [None]*p\n",
    "    \n",
    "    for j_selected in A:\n",
    "    \n",
    "        etaj, etajTy = util.construct_test_statistic(j_selected, XA, y, A)\n",
    "    \n",
    "        a, b = crossvalidation_event.compute_a_b(y, etaj, n)\n",
    "        a_flatten = a.flatten()\n",
    "        b_flatten = b.flatten()\n",
    "        a_train = (a_flatten[:cutoff]).reshape((cutoff, 1))\n",
    "        b_train = (b_flatten[:cutoff]).reshape((cutoff, 1))\n",
    "    \n",
    "        a_val = (a_flatten[cutoff:n]).reshape((n - cutoff, 1))\n",
    "        b_val = (b_flatten[cutoff:n]).reshape((n - cutoff, 1))\n",
    "    \n",
    "        list_zk_min_lam, list_bhz_min_lam, list_active_set_min_lam, list_etaAkz_min_lam, list_bhAz_min_lam = \\\n",
    "            parametric_lasso.run_parametric_lasso_cv(X_train, list_lam[lam_idx], X_train.shape[0], p, threshold, a_train, b_train)\n",
    "    \n",
    "        piecewise_quadratic_min_lam = crossvalidation_event.construct_piecewise_quadratic(a_val, b_val, X_val, list_zk_min_lam,\n",
    "                                                                      list_active_set_min_lam, list_etaAkz_min_lam,\n",
    "                                                                      list_bhAz_min_lam)\n",
    "    \n",
    "        set_piecewise_funct = [piecewise_quadratic_min_lam]\n",
    "        set_list_zk = [list_zk_min_lam]\n",
    "    \n",
    "        for i in range(len(list_lam)):\n",
    "            if i == lam_idx:\n",
    "                continue\n",
    "    \n",
    "            list_zk_i, list_bhz_i, list_active_set_i, list_etaAkz_i, list_bhAz_i = \\\n",
    "                parametric_lasso.run_parametric_lasso_cv(X_train, list_lam[i], X_train.shape[0], p, threshold, a_train, b_train)\n",
    "    \n",
    "            piecewise_quadratic_i = crossvalidation_event.construct_piecewise_quadratic(a_val, b_val, X_val, list_zk_i,\n",
    "                                                                  list_active_set_i, list_etaAkz_i, list_bhAz_i)\n",
    "    \n",
    "            set_piecewise_funct.append(piecewise_quadratic_i)\n",
    "            set_list_zk.append(list_zk_i)\n",
    "    \n",
    "        z_interval_cv = crossvalidation_event.construct_z_interval_cv(set_piecewise_funct, set_list_zk)\n",
    "    \n",
    "        list_zk, list_bhz, list_active_set = parametric_lasso.run_parametric_lasso(X, y, lam, etaj, n, p, threshold)\n",
    "    \n",
    "        z_interval_m = crossvalidation_event.construct_m_z_interval(A, list_active_set, list_zk)\n",
    "    \n",
    "        z_interval = crossvalidation_event.construct_z_interval(z_interval_m, z_interval_cv)\n",
    "    \n",
    "        pivot = util.pivot_with_specified_interval(z_interval, etaj, etajTy, cov, 0)\n",
    "\n",
    "        if pivot is None:\n",
    "            p_val[j_selected] = None\n",
    "        else: \n",
    "            p_val[j_selected] = 2 * min(1 - pivot, pivot)\n",
    "\n",
    "        confidence_interval_005 = ci.compute_ci_with_specified_interval(z_interval, etaj, etajTy, cov, bh[j_selected], 0.05)\n",
    "        if confidence_interval_005 is None:\n",
    "            CI_lo_005[j_selected] = None\n",
    "            CI_up_005[j_selected] = None\n",
    "        else:\n",
    "            CI_lo_005[j_selected] = confidence_interval_005[0]\n",
    "            CI_up_005[j_selected] = confidence_interval_005[1]\n",
    "        \n",
    "    return best_lam, A, bh, p_val, CI_lo_005, CI_up_005"
   ]
  },
  {
   "cell_type": "code",
   "execution_count": 5,
   "id": "ed76943f",
   "metadata": {},
   "outputs": [],
   "source": [
    "# Parametric programming CV for poisson regression\n",
    "def poireg_pp_cv(X,y,list_lambda,train):\n",
    "    \n",
    "    # fit the poisson regression\n",
    "    bmle, Umle, zmle = poireg(X,y)\n",
    "    \n",
    "    # remove effect of the intercept column from both zmle and Umle\n",
    "    u0 = Umle[:,0]\n",
    "    z = zmle\n",
    "    Pu0 = 1 / sum(u0**2) * np.outer(u0,u0.T)\n",
    "    U = np.delete(Umle,0,1)\n",
    "    U = U - np.matmul(Pu0,U)\n",
    "    \n",
    "    # feed U and z as well as 1/phi into the linreg_pp_cv function\n",
    "    best_lam, A, bh, p_val, CI_lo_005, CI_up_005 = linreg_pp_cv(U,z,list_lambda,train,cov_scale = 1)\n",
    "\n",
    "    return best_lam, A, bh, p_val, CI_lo_005, CI_up_005"
   ]
  },
  {
   "cell_type": "markdown",
   "id": "60d1bb7c",
   "metadata": {},
   "source": [
    "### Simulation"
   ]
  },
  {
   "cell_type": "code",
   "execution_count": 6,
   "id": "bb7cb33f",
   "metadata": {},
   "outputs": [],
   "source": [
    "n = 500\n",
    "p = 20\n",
    "beta_vec = [-2,1,1,-1] + [0]*17\n",
    "X, y = gen_Xy(n=n, beta_vec=beta_vec)\n",
    "lambdas_lo = 15/n \n",
    "lambdas_hi = 28/n\n",
    "n_lambdas = 20\n",
    "lambdas = np.logspace(np.log10(lambdas_lo), np.log10(lambdas_hi), num=n_lambdas)\n",
    "\n",
    "train = 0.7\n",
    "best_lam, A, bh, p_val, CI_lo, CI_up = poireg_pp_cv(X=X, y=y, list_lambda=lambdas, train=train)"
   ]
  },
  {
   "cell_type": "code",
   "execution_count": 7,
   "id": "e50c4d2a",
   "metadata": {},
   "outputs": [
    {
     "data": {
      "text/plain": [
       "array([0.03      , 0.03100187, 0.0320372 , 0.03310711, 0.03421275,\n",
       "       0.03535531, 0.03653602, 0.03775617, 0.03901707, 0.04032007,\n",
       "       0.04166659, 0.04305808, 0.04449604, 0.04598201, 0.04751762,\n",
       "       0.04910451, 0.05074439, 0.05243903, 0.05419027, 0.056     ])"
      ]
     },
     "execution_count": 7,
     "metadata": {},
     "output_type": "execute_result"
    }
   ],
   "source": [
    "lambdas"
   ]
  },
  {
   "cell_type": "code",
   "execution_count": 8,
   "id": "ddeac791",
   "metadata": {},
   "outputs": [
    {
     "data": {
      "text/plain": [
       "0.05600000000000001"
      ]
     },
     "execution_count": 8,
     "metadata": {},
     "output_type": "execute_result"
    }
   ],
   "source": [
    "best_lam"
   ]
  },
  {
   "cell_type": "code",
   "execution_count": 9,
   "id": "bda93675",
   "metadata": {},
   "outputs": [
    {
     "data": {
      "text/plain": [
       "[1.421634632237101e-08,\n",
       " 0.0,\n",
       " 7.6398286751496335e-28,\n",
       " 0.5077558081956315,\n",
       " None,\n",
       " None,\n",
       " 0.8262788858349608,\n",
       " 0.6127836253765926,\n",
       " 0.7890453126209109,\n",
       " None,\n",
       " None,\n",
       " None,\n",
       " None,\n",
       " None,\n",
       " None,\n",
       " None,\n",
       " None,\n",
       " None,\n",
       " None,\n",
       " None]"
      ]
     },
     "execution_count": 9,
     "metadata": {},
     "output_type": "execute_result"
    }
   ],
   "source": [
    "p_val"
   ]
  }
 ],
 "metadata": {
  "kernelspec": {
   "display_name": "Python 3 (ipykernel)",
   "language": "python",
   "name": "python3"
  },
  "language_info": {
   "codemirror_mode": {
    "name": "ipython",
    "version": 3
   },
   "file_extension": ".py",
   "mimetype": "text/x-python",
   "name": "python",
   "nbconvert_exporter": "python",
   "pygments_lexer": "ipython3",
   "version": "3.10.5"
  }
 },
 "nbformat": 4,
 "nbformat_minor": 5
}
